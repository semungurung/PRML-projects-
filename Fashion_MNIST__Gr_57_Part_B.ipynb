{
  "cells": [
    {
      "cell_type": "markdown",
      "id": "5a64125c-0914-4b54-aa94-516601dd6d7c",
      "metadata": {
        "id": "5a64125c-0914-4b54-aa94-516601dd6d7c"
      },
      "source": [
        "1.\n",
        "Introduction to the Problem:\n",
        "The Fashion-MNIST dataset is widely used for benchmarking machine learning models in computer vision tasks. It contains 28x28 grayscale images of 10 different types of clothing items, such as T-shirts, trousers, and shoes. The goal is to develop models that can accurately classify these images into their respective categories. This problem has practical implications in areas like automated inventory management, fashion recommendation systems, and online retail.\n",
        "\n",
        "Key Questions to Investigate from the Fashion-MNIST Dataset:\n",
        "Classification Accuracy: How accurately can a machine learning model classify clothing items based on their pixel values?\n",
        "Feature Importance: Which pixel regions contribute the most to the classification of a particular clothing item?\n",
        "Model Comparison: Which machine learning model (e.g., Convolutional Neural Networks, Random Forests) performs best on the Fashion-MNIST dataset?\n",
        "Generalization to Unseen Data: How well do the models generalize when predicting new, unseen images from the test set?\n",
        "Impact of Image Resolution: How does image resolution (e.g., downscaling to smaller sizes) affect the model's performance?\n",
        "Class Imbalance: Does the distribution of images across the 10 classes affect the model’s performance?\n",
        "Misclassification Analysis: Which clothing items are most frequently misclassified, and why?\n"
      ]
    },
    {
      "cell_type": "markdown",
      "id": "54d5fd4f-9f00-4931-b5b1-c60a5222db81",
      "metadata": {
        "id": "54d5fd4f-9f00-4931-b5b1-c60a5222db81"
      },
      "source": [
        "2.\n",
        "Description of the Fashion-MNIST Dataset\n",
        "The Fashion-MNIST dataset is a collection of 70,000 grayscale images, each representing a clothing item. These images are divided into two sets: a training set with 60,000 examples and a test set with 10,000 examples. The dataset is structured in a way that is ideal for image classification task.\n",
        "\n",
        "Rows:\n",
        "Meaning: Each row in the dataset corresponds to a single image of a clothing item. In total, there are 70,000 rows, each representing an individual clothing item.\n",
        "Structure:\n",
        "The first column in each row contains the class label (a number from 0 to 9), which indicates the type of clothing item (e.g., T-shirt, Trouser, Sneaker, etc.).\n",
        "The remaining 784 columns contain the pixel values of the image. These pixel values range from 0 to 255, where 0 represents a white pixel (completely light), and 255 represents a black pixel (completely dark).\n",
        "\n",
        "Columns:\n",
        "Meaning: The dataset has 785 columns in total.\n",
        "Column 1: This is the class label, representing the category of the clothing item. There are 10 possible class labels:\n",
        "0: T-shirt/top,1: Trouser,2: Pullover,3: Dress,4: Coat,5: Sandal,6: Shirt,7: Sneaker,8: Bag,9: Ankle boot\n",
        "Columns 2-785: These columns represent the pixel values of the 28x28 image (28 x 28 = 784 pixels). The pixels are flattened into a single row, where each value indicates the intensity (darkness) of the pixel.\n",
        "\n",
        "Special Characteristics for Modeling\n",
        "Pixel Intensity Range: The pixel values range from 0 to 255, where higher values indicate darker pixels.\n",
        "Class Imbalance: The dataset is relatively balanced across the 10 classes, meaning no single class dominates the dataset.\n",
        "Spatial Relationships: The pixel values are arranged in a flattened format.\n",
        "Noisy Data: Some images may be difficult to classify due to their similarity with other classes or poor resolution.\n",
        "Scale-Invariance: The dataset contains different clothing items that may vary in size and position within the image.\n"
      ]
    },
    {
      "cell_type": "markdown",
      "id": "a710d4bc-0a59-4640-8dfc-8c6311727fb1",
      "metadata": {
        "id": "a710d4bc-0a59-4640-8dfc-8c6311727fb1"
      },
      "source": [
        "3.\n",
        "Logistic Regression is a widely used machine learning model for binary and multi-class classification problems,Logistic Regression is a good fit for the Fashion-MNIST dataset:\n",
        "\n",
        "Suitability for Classification TasksPurpose: Logistic Regression is inherently designed for classification tasks. In the case of Fashion-MNIST, the goal is to classify images of clothing items into one of 10 categories (e.g., T-shirt, Trouser, Sneaker, etc.).\n",
        "\n",
        "Interpretability\n",
        "Simple and Interpretable Model: Logistic Regression is easy to interpret. The model’s coefficients can be analyzed to understand how each feature (i.e., pixel value) contributes to the probability of the image belonging to a certain class.\n",
        "Efficiency with High-Dimensional Data:\n",
        "Handles Large Feature Sets: Fashion-MNIST images have 784 features (pixels). Logistic Regression can handle this high-dimensional data efficiently, especially when regularization is applied to prevent overfitting.\n",
        "Feature Selection: Although Logistic Regression uses all features, the model can be combined with techniques like L1 regularization (Lasso) to perform feature selection, effectively reducing dimensionality by shrinking irrelevant coefficients to zero.\n",
        "\n",
        "Multi-Class Classification with One-vs-Rest Approach:\n",
        "Adaptability to Multi-Class Problems: Although Logistic Regression is primarily a binary classifier, it can be adapted to handle multi-class classification tasks like Fashion-MNIST using a One-vs-Rest (OvR) approach.\n",
        "\n",
        "Robustness and Generalization:\n",
        "Regularization Techniques: Logistic Regression supports regularization (e.g., L2 regularization), which helps in preventing overfitting. This is particularly important for the Fashion-MNIST dataset, where the model must generalize well to new, unseen images.\n",
        "Generalization to Unseen Data: Logistic Regression is known for its ability to generalize well, especially when the dataset is relatively balanced across classes, as is the case with Fashion-MNIST.\n",
        "\n",
        "Baseline Performance and Comparison\n",
        "Good Baseline Model: Logistic Regression serves as a strong baseline model for more complex models. By starting with Logistic Regression, we can establish a performance benchmark and compare it with more advanced models like Convolutional Neural Networks (CNNs) or Support Vector Machines (SVMs).\n",
        "Performance Metrics: Logistic Regression can be evaluated using standard classification metrics (e.g., accuracy, precision, recall), allowing for straightforward comparison with other models.\n",
        "\n",
        "Simplicity and Speed:\n",
        "Faster Training and Prediction: Logistic Regression is computationally efficient, making it a suitable choice for datasets like Fashion-MNIST that require multiple iterations and tuning. It can be trained relatively quickly, even with large datasets.\n",
        "Low Resource Requirement: Logistic Regression requires fewer computational resources compared to more complex models like deep learning, making it suitable for situations where computational power is limited."
      ]
    },
    {
      "cell_type": "markdown",
      "id": "1d533cf1-4129-4a94-a57d-c17fc0890da1",
      "metadata": {
        "id": "1d533cf1-4129-4a94-a57d-c17fc0890da1"
      },
      "source": [
        "4.\n",
        "Retrieving data in the program"
      ]
    },
    {
      "cell_type": "code",
      "execution_count": null,
      "id": "8b44e879-b788-4050-8bde-10e34b48a84e",
      "metadata": {
        "id": "8b44e879-b788-4050-8bde-10e34b48a84e"
      },
      "outputs": [],
      "source": [
        "# Imports image database\n",
        "\n",
        "from sklearn.datasets import fetch_openml\n",
        "#from sklearn.datasets import load_digits\n"
      ]
    },
    {
      "cell_type": "code",
      "execution_count": null,
      "id": "1fdb345d-a419-4a5a-a505-20391fc44d72",
      "metadata": {
        "id": "1fdb345d-a419-4a5a-a505-20391fc44d72"
      },
      "outputs": [],
      "source": [
        "# Loads images\n",
        "digits = fetch_openml('Fashion-MNIST', version = 1)\n",
        "#digits = load_digits()\n"
      ]
    },
    {
      "cell_type": "markdown",
      "id": "45b8d445-22e5-45e4-a669-bab34f7231f8",
      "metadata": {
        "id": "45b8d445-22e5-45e4-a669-bab34f7231f8"
      },
      "source": [
        "5.\n",
        "Exploring Data"
      ]
    },
    {
      "cell_type": "code",
      "execution_count": null,
      "id": "1dd23416-4ae6-42f1-9236-1f1351673cfd",
      "metadata": {
        "id": "1dd23416-4ae6-42f1-9236-1f1351673cfd",
        "outputId": "7e6b71b7-d3a2-42f6-e428-fce605df2905"
      },
      "outputs": [
        {
          "data": {
            "text/plain": [
              "dict_keys(['data', 'target', 'frame', 'categories', 'feature_names', 'target_names', 'DESCR', 'details', 'url'])"
            ]
          },
          "execution_count": 5,
          "metadata": {},
          "output_type": "execute_result"
        }
      ],
      "source": [
        "# Exploring Data\n",
        "digits.keys()"
      ]
    },
    {
      "cell_type": "code",
      "execution_count": null,
      "id": "b7da0d2c-52ec-45f9-9ffd-825d5d122040",
      "metadata": {
        "id": "b7da0d2c-52ec-45f9-9ffd-825d5d122040",
        "outputId": "a28111f4-aab7-4093-a47e-2ee25fdc2f39"
      },
      "outputs": [
        {
          "data": {
            "text/plain": [
              "0    9\n",
              "1    0\n",
              "2    0\n",
              "3    3\n",
              "4    0\n",
              "Name: class, dtype: category\n",
              "Categories (10, object): ['0', '1', '2', '3', ..., '6', '7', '8', '9']"
            ]
          },
          "execution_count": 6,
          "metadata": {},
          "output_type": "execute_result"
        }
      ],
      "source": [
        "digits.target[:5]"
      ]
    },
    {
      "cell_type": "markdown",
      "id": "51126d6e-b7cc-487b-b767-ecf79f705b68",
      "metadata": {
        "id": "51126d6e-b7cc-487b-b767-ecf79f705b68"
      },
      "source": [
        "5.i\n",
        "Show the image and data"
      ]
    },
    {
      "cell_type": "code",
      "execution_count": null,
      "id": "83692651-3cdb-4908-bc6d-f8a74a18b0d1",
      "metadata": {
        "id": "83692651-3cdb-4908-bc6d-f8a74a18b0d1",
        "outputId": "62169f9c-187a-4ccf-8d30-8c631f4087b7"
      },
      "outputs": [
        {
          "data": {
            "text/plain": [
              "pandas.core.frame.DataFrame"
            ]
          },
          "execution_count": 7,
          "metadata": {},
          "output_type": "execute_result"
        }
      ],
      "source": [
        "type(digits.data)"
      ]
    },
    {
      "cell_type": "code",
      "execution_count": null,
      "id": "6876e8ea-c180-4895-91bd-762fa8343d13",
      "metadata": {
        "id": "6876e8ea-c180-4895-91bd-762fa8343d13",
        "outputId": "062baa1d-3086-4ecb-fdbe-b0dad2f4bd9a"
      },
      "outputs": [
        {
          "data": {
            "image/png": "[encoded data removed]",
            "text/plain": [
              "<Figure size 1000x200 with 5 Axes>"
            ]
          },
          "metadata": {},
          "output_type": "display_data"
        }
      ],
      "source": [
        "import numpy as np\n",
        "import sklearn\n",
        "import matplotlib.pyplot as plt\n",
        "plt.figure(figsize=(10,2))\n",
        "for idx in range(5):\n",
        "    if sklearn.__version__ < '0.24.2':\n",
        "        image = digits.data[idx,:]\n",
        "    else:\n",
        "            image = digits.data.iloc[idx,:]\n",
        "\n",
        "\n",
        "    label  = digits.target[idx]\n",
        "    plt.subplot(1, 5, idx + 1)\n",
        "    plt.imshow(np.array(image).reshape(28, 28), cmap=plt.cm.gray)\n",
        "    plt.title('Training: %i\\n' % int(label), fontsize = 15)"
      ]
    },
    {
      "cell_type": "markdown",
      "id": "1a1ead6a-d156-4b64-aea7-4a7accee1ae5",
      "metadata": {
        "id": "1a1ead6a-d156-4b64-aea7-4a7accee1ae5"
      },
      "source": [
        "5.ii\n",
        "Show the corresponding matrix"
      ]
    },
    {
      "cell_type": "code",
      "execution_count": null,
      "id": "7fbec0f8-d923-4002-b10b-defd5539e197",
      "metadata": {
        "id": "7fbec0f8-d923-4002-b10b-defd5539e197",
        "outputId": "bbdc4ee6-1bd6-48fa-ebd8-3faa6b6a72d2"
      },
      "outputs": [
        {
          "data": {
            "text/html": [
              "<div>\n",
              "<style scoped>\n",
              "    .dataframe tbody tr th:only-of-type {\n",
              "        vertical-align: middle;\n",
              "    }\n",
              "\n",
              "    .dataframe tbody tr th {\n",
              "        vertical-align: top;\n",
              "    }\n",
              "\n",
              "    .dataframe thead th {\n",
              "        text-align: right;\n",
              "    }\n",
              "</style>\n",
              "<table border=\"1\" class=\"dataframe\">\n",
              "  <thead>\n",
              "    <tr style=\"text-align: right;\">\n",
              "      <th></th>\n",
              "      <th>pixel1</th>\n",
              "      <th>pixel2</th>\n",
              "      <th>pixel3</th>\n",
              "      <th>pixel4</th>\n",
              "      <th>pixel5</th>\n",
              "      <th>pixel6</th>\n",
              "      <th>pixel7</th>\n",
              "      <th>pixel8</th>\n",
              "      <th>pixel9</th>\n",
              "      <th>pixel10</th>\n",
              "      <th>...</th>\n",
              "      <th>pixel775</th>\n",
              "      <th>pixel776</th>\n",
              "      <th>pixel777</th>\n",
              "      <th>pixel778</th>\n",
              "      <th>pixel779</th>\n",
              "      <th>pixel780</th>\n",
              "      <th>pixel781</th>\n",
              "      <th>pixel782</th>\n",
              "      <th>pixel783</th>\n",
              "      <th>pixel784</th>\n",
              "    </tr>\n",
              "  </thead>\n",
              "  <tbody>\n",
              "    <tr>\n",
              "      <th>0</th>\n",
              "      <td>0</td>\n",
              "      <td>0</td>\n",
              "      <td>0</td>\n",
              "      <td>0</td>\n",
              "      <td>0</td>\n",
              "      <td>0</td>\n",
              "      <td>0</td>\n",
              "      <td>0</td>\n",
              "      <td>0</td>\n",
              "      <td>0</td>\n",
              "      <td>...</td>\n",
              "      <td>0</td>\n",
              "      <td>0</td>\n",
              "      <td>0</td>\n",
              "      <td>0</td>\n",
              "      <td>0</td>\n",
              "      <td>0</td>\n",
              "      <td>0</td>\n",
              "      <td>0</td>\n",
              "      <td>0</td>\n",
              "      <td>0</td>\n",
              "    </tr>\n",
              "    <tr>\n",
              "      <th>1</th>\n",
              "      <td>0</td>\n",
              "      <td>0</td>\n",
              "      <td>0</td>\n",
              "      <td>0</td>\n",
              "      <td>0</td>\n",
              "      <td>1</td>\n",
              "      <td>0</td>\n",
              "      <td>0</td>\n",
              "      <td>0</td>\n",
              "      <td>0</td>\n",
              "      <td>...</td>\n",
              "      <td>119</td>\n",
              "      <td>114</td>\n",
              "      <td>130</td>\n",
              "      <td>76</td>\n",
              "      <td>0</td>\n",
              "      <td>0</td>\n",
              "      <td>0</td>\n",
              "      <td>0</td>\n",
              "      <td>0</td>\n",
              "      <td>0</td>\n",
              "    </tr>\n",
              "    <tr>\n",
              "      <th>2</th>\n",
              "      <td>0</td>\n",
              "      <td>0</td>\n",
              "      <td>0</td>\n",
              "      <td>0</td>\n",
              "      <td>0</td>\n",
              "      <td>0</td>\n",
              "      <td>0</td>\n",
              "      <td>0</td>\n",
              "      <td>0</td>\n",
              "      <td>22</td>\n",
              "      <td>...</td>\n",
              "      <td>0</td>\n",
              "      <td>0</td>\n",
              "      <td>1</td>\n",
              "      <td>0</td>\n",
              "      <td>0</td>\n",
              "      <td>0</td>\n",
              "      <td>0</td>\n",
              "      <td>0</td>\n",
              "      <td>0</td>\n",
              "      <td>0</td>\n",
              "    </tr>\n",
              "    <tr>\n",
              "      <th>3</th>\n",
              "      <td>0</td>\n",
              "      <td>0</td>\n",
              "      <td>0</td>\n",
              "      <td>0</td>\n",
              "      <td>0</td>\n",
              "      <td>0</td>\n",
              "      <td>0</td>\n",
              "      <td>0</td>\n",
              "      <td>33</td>\n",
              "      <td>96</td>\n",
              "      <td>...</td>\n",
              "      <td>0</td>\n",
              "      <td>0</td>\n",
              "      <td>0</td>\n",
              "      <td>0</td>\n",
              "      <td>0</td>\n",
              "      <td>0</td>\n",
              "      <td>0</td>\n",
              "      <td>0</td>\n",
              "      <td>0</td>\n",
              "      <td>0</td>\n",
              "    </tr>\n",
              "    <tr>\n",
              "      <th>4</th>\n",
              "      <td>0</td>\n",
              "      <td>0</td>\n",
              "      <td>0</td>\n",
              "      <td>0</td>\n",
              "      <td>0</td>\n",
              "      <td>0</td>\n",
              "      <td>0</td>\n",
              "      <td>0</td>\n",
              "      <td>0</td>\n",
              "      <td>0</td>\n",
              "      <td>...</td>\n",
              "      <td>0</td>\n",
              "      <td>0</td>\n",
              "      <td>0</td>\n",
              "      <td>0</td>\n",
              "      <td>0</td>\n",
              "      <td>0</td>\n",
              "      <td>0</td>\n",
              "      <td>0</td>\n",
              "      <td>0</td>\n",
              "      <td>0</td>\n",
              "    </tr>\n",
              "    <tr>\n",
              "      <th>...</th>\n",
              "      <td>...</td>\n",
              "      <td>...</td>\n",
              "      <td>...</td>\n",
              "      <td>...</td>\n",
              "      <td>...</td>\n",
              "      <td>...</td>\n",
              "      <td>...</td>\n",
              "      <td>...</td>\n",
              "      <td>...</td>\n",
              "      <td>...</td>\n",
              "      <td>...</td>\n",
              "      <td>...</td>\n",
              "      <td>...</td>\n",
              "      <td>...</td>\n",
              "      <td>...</td>\n",
              "      <td>...</td>\n",
              "      <td>...</td>\n",
              "      <td>...</td>\n",
              "      <td>...</td>\n",
              "      <td>...</td>\n",
              "      <td>...</td>\n",
              "    </tr>\n",
              "    <tr>\n",
              "      <th>69995</th>\n",
              "      <td>0</td>\n",
              "      <td>0</td>\n",
              "      <td>0</td>\n",
              "      <td>0</td>\n",
              "      <td>0</td>\n",
              "      <td>0</td>\n",
              "      <td>0</td>\n",
              "      <td>0</td>\n",
              "      <td>0</td>\n",
              "      <td>0</td>\n",
              "      <td>...</td>\n",
              "      <td>0</td>\n",
              "      <td>0</td>\n",
              "      <td>0</td>\n",
              "      <td>0</td>\n",
              "      <td>0</td>\n",
              "      <td>0</td>\n",
              "      <td>0</td>\n",
              "      <td>0</td>\n",
              "      <td>0</td>\n",
              "      <td>0</td>\n",
              "    </tr>\n",
              "    <tr>\n",
              "      <th>69996</th>\n",
              "      <td>0</td>\n",
              "      <td>0</td>\n",
              "      <td>0</td>\n",
              "      <td>0</td>\n",
              "      <td>0</td>\n",
              "      <td>0</td>\n",
              "      <td>0</td>\n",
              "      <td>0</td>\n",
              "      <td>0</td>\n",
              "      <td>31</td>\n",
              "      <td>...</td>\n",
              "      <td>0</td>\n",
              "      <td>0</td>\n",
              "      <td>0</td>\n",
              "      <td>0</td>\n",
              "      <td>0</td>\n",
              "      <td>0</td>\n",
              "      <td>0</td>\n",
              "      <td>0</td>\n",
              "      <td>0</td>\n",
              "      <td>0</td>\n",
              "    </tr>\n",
              "    <tr>\n",
              "      <th>69997</th>\n",
              "      <td>0</td>\n",
              "      <td>0</td>\n",
              "      <td>0</td>\n",
              "      <td>0</td>\n",
              "      <td>0</td>\n",
              "      <td>0</td>\n",
              "      <td>0</td>\n",
              "      <td>0</td>\n",
              "      <td>0</td>\n",
              "      <td>0</td>\n",
              "      <td>...</td>\n",
              "      <td>27</td>\n",
              "      <td>0</td>\n",
              "      <td>0</td>\n",
              "      <td>0</td>\n",
              "      <td>0</td>\n",
              "      <td>0</td>\n",
              "      <td>0</td>\n",
              "      <td>0</td>\n",
              "      <td>0</td>\n",
              "      <td>0</td>\n",
              "    </tr>\n",
              "    <tr>\n",
              "      <th>69998</th>\n",
              "      <td>0</td>\n",
              "      <td>0</td>\n",
              "      <td>0</td>\n",
              "      <td>0</td>\n",
              "      <td>0</td>\n",
              "      <td>0</td>\n",
              "      <td>0</td>\n",
              "      <td>0</td>\n",
              "      <td>0</td>\n",
              "      <td>0</td>\n",
              "      <td>...</td>\n",
              "      <td>0</td>\n",
              "      <td>0</td>\n",
              "      <td>0</td>\n",
              "      <td>0</td>\n",
              "      <td>0</td>\n",
              "      <td>0</td>\n",
              "      <td>0</td>\n",
              "      <td>0</td>\n",
              "      <td>0</td>\n",
              "      <td>0</td>\n",
              "    </tr>\n",
              "    <tr>\n",
              "      <th>69999</th>\n",
              "      <td>0</td>\n",
              "      <td>0</td>\n",
              "      <td>0</td>\n",
              "      <td>0</td>\n",
              "      <td>0</td>\n",
              "      <td>0</td>\n",
              "      <td>0</td>\n",
              "      <td>0</td>\n",
              "      <td>0</td>\n",
              "      <td>0</td>\n",
              "      <td>...</td>\n",
              "      <td>0</td>\n",
              "      <td>0</td>\n",
              "      <td>0</td>\n",
              "      <td>0</td>\n",
              "      <td>0</td>\n",
              "      <td>0</td>\n",
              "      <td>0</td>\n",
              "      <td>0</td>\n",
              "      <td>0</td>\n",
              "      <td>0</td>\n",
              "    </tr>\n",
              "  </tbody>\n",
              "</table>\n",
              "<p>70000 rows × 784 columns</p>\n",
              "</div>"
            ],
            "text/plain": [
              "       pixel1  pixel2  pixel3  pixel4  pixel5  pixel6  pixel7  pixel8  pixel9  \\\n",
              "0           0       0       0       0       0       0       0       0       0   \n",
              "1           0       0       0       0       0       1       0       0       0   \n",
              "2           0       0       0       0       0       0       0       0       0   \n",
              "3           0       0       0       0       0       0       0       0      33   \n",
              "4           0       0       0       0       0       0       0       0       0   \n",
              "...       ...     ...     ...     ...     ...     ...     ...     ...     ...   \n",
              "69995       0       0       0       0       0       0       0       0       0   \n",
              "69996       0       0       0       0       0       0       0       0       0   \n",
              "69997       0       0       0       0       0       0       0       0       0   \n",
              "69998       0       0       0       0       0       0       0       0       0   \n",
              "69999       0       0       0       0       0       0       0       0       0   \n",
              "\n",
              "       pixel10  ...  pixel775  pixel776  pixel777  pixel778  pixel779  \\\n",
              "0            0  ...         0         0         0         0         0   \n",
              "1            0  ...       119       114       130        76         0   \n",
              "2           22  ...         0         0         1         0         0   \n",
              "3           96  ...         0         0         0         0         0   \n",
              "4            0  ...         0         0         0         0         0   \n",
              "...        ...  ...       ...       ...       ...       ...       ...   \n",
              "69995        0  ...         0         0         0         0         0   \n",
              "69996       31  ...         0         0         0         0         0   \n",
              "69997        0  ...        27         0         0         0         0   \n",
              "69998        0  ...         0         0         0         0         0   \n",
              "69999        0  ...         0         0         0         0         0   \n",
              "\n",
              "       pixel780  pixel781  pixel782  pixel783  pixel784  \n",
              "0             0         0         0         0         0  \n",
              "1             0         0         0         0         0  \n",
              "2             0         0         0         0         0  \n",
              "3             0         0         0         0         0  \n",
              "4             0         0         0         0         0  \n",
              "...         ...       ...       ...       ...       ...  \n",
              "69995         0         0         0         0         0  \n",
              "69996         0         0         0         0         0  \n",
              "69997         0         0         0         0         0  \n",
              "69998         0         0         0         0         0  \n",
              "69999         0         0         0         0         0  \n",
              "\n",
              "[70000 rows x 784 columns]"
            ]
          },
          "execution_count": 9,
          "metadata": {},
          "output_type": "execute_result"
        }
      ],
      "source": [
        "digits.data"
      ]
    },
    {
      "cell_type": "code",
      "execution_count": null,
      "id": "0cb6b720-d90a-4949-9618-f3f6d426c6a2",
      "metadata": {
        "id": "0cb6b720-d90a-4949-9618-f3f6d426c6a2",
        "outputId": "7e3c03a1-a975-498b-8310-97a8f2371245"
      },
      "outputs": [
        {
          "name": "stdout",
          "output_type": "stream",
          "text": [
            "[[  0   0   0   0   0   0   0   0   0   0   0   0   0   0   0   0   0   0\n",
            "    0   0   0   0   0   0   0   0   0   0]\n",
            " [  0   0   0   0   0   0   0   0   0   0   0   0   0   0   0   0   0   0\n",
            "    0   0   0   0   0   0   0   0   0   0]\n",
            " [  0   0   0   0   0   0   0   0   0   0   0   0   0   1   1   0   0   0\n",
            "    0   0   0   0 164  50   0   7   0   0]\n",
            " [  0   0   0   0   0   0   0   0   1   0   0   1   0   0   1   1   0   0\n",
            "    5   0  45 217 255 176   0   6   0   0]\n",
            " [  0   0   0   0   0   0   0   0   0   1   1   0   3   3   5   9   0   2\n",
            "    0  62 236 231 215  27   0   1   0   0]\n",
            " [  0   0   0   0   0   0   0   0   0   0   0   0   0   0   0   0   0   0\n",
            "   29 244 231 234  74   0   1   0   0   0]\n",
            " [  0   0   0   0   0   0   0   0   0   2   0   0   0  23  41  59 111 134\n",
            "  138 226 202 217  22   0   1   0   0   0]\n",
            " [  0   0   0   0   0   0   0   0   0   5   0  35 179 195 182 225 198 241\n",
            "  177 199 205 210  26   0   1   0   0   3]\n",
            " [  0   0   0   0   0   0   0   0   0   0   0   0  19   0   0   0   0   0\n",
            "  235 243 198 119   0   3   1   3   4   0]\n",
            " [  0   0   0   0   0   0   0   0   0   0   0   0   0   2   5   0   0   0\n",
            "  170 252 181 182   0   0   0   0   0  19]\n",
            " [  0   0   0   0   0   0   0   0   0   0   0   0   1   1   0   0   4   0\n",
            "   76 255 183 219   9   0   0  42 191 164]\n",
            " [  0   0   0   0   0   0   0   0   0   0   0   0   0   0   0   0   2   0\n",
            "    0 237 198 204  75  47 221 221 238  25]\n",
            " [  0   0   0   0   0   0   0   0   0   0   0   1   0   0   1   2   1   0\n",
            "    0 209 212 229 255 254 232 227 174   0]\n",
            " [  0   0   0   0   0   0   0   0   0   0   0   0   0   0   1   0   0   0\n",
            "    0   0 210 255  87 101 230 238 105   0]\n",
            " [  0   0   0   0   0   0   0   0   0   0   0   0   0   1   0   4   1   0\n",
            "    1 250 236   0   0   0 224 233  20   0]\n",
            " [  0   0   0   0   0   1   3   4   4   2   0   0   0   1   0   2   0   0\n",
            "  204 185   0   0   0   6 227 202   0   0]\n",
            " [  0   1   0   1   0   0   0   0   0   0   0   0   0   1   0   0   0 173\n",
            "  159   0   0   2   0  10 237 153   0   0]\n",
            " [  0   0   1   0   0   0   0  40 138  21   0   0   2   0   8   0 132 195\n",
            "    0   0   0   0   0   8 240 118   0   1]\n",
            " [  5   6   4   0 132 232 208 208 241 217   0   0   0   1   0  29 217  35\n",
            "    0   9   0   2   0  25 238  58   0   2]\n",
            " [  0   0   0   0 181 255 231 233 219 238  77   0   0   0   0 196 145   0\n",
            "    0   0   0   2   0  49 228   0   0   2]\n",
            " [ 62  92   8   0 207 255 216 198 189 208 221   0   0   0 177 239  19   0\n",
            "    0   0   0   2   0  64 218   0   0   3]\n",
            " [ 96 249 223 211 237 243 211 228 255 252 255 138  38 175 242 173   0   0\n",
            "    0   0   0   2   0  89 204   0   0   2]\n",
            " [  0 197 240 240 237 219 222 244 235 243 244 255 255 234 233  45   0   2\n",
            "    0   0   0   2   0 105 188   0   0   0]\n",
            " [  0 165 253 224 229 242 244 232 239 242 243 237 230 230 207   0   0   1\n",
            "    0   0   0   9   0 120 165   0   8   0]\n",
            " [  0  45 255 252 253 241 229 223 230 235 240 239 233 245  65   0   2   0\n",
            "    0   0   0  10   0 128 143   0  10   0]\n",
            " [  0   0   0  72 202 255 255 255 255 255 255 255 255 194   0   0   2   0\n",
            "    0   0   0   8   0 186 160   0   9   0]\n",
            " [  0   0   0   0   0   0  38  89 135 162 180 179 152   0   0   1   0   0\n",
            "    0   0   0   1   0  68  29   0   3   0]\n",
            " [  0   0   0   0   0   0   0   0   0   0   0   0   0   0   0   0   0   0\n",
            "    0   0   0   0   0   0   0   0   0   0]]\n"
          ]
        }
      ],
      "source": [
        "if sklearn.__version__ < '0.24.2':\n",
        "    print(np.array(digits.data[9,:]).reshape(28, 28))\n",
        "else:\n",
        "    print(np.array(digits.data.iloc[9,:]).reshape(28, 28))\n"
      ]
    },
    {
      "cell_type": "markdown",
      "id": "2de9711a-1c24-4a2a-9fef-bd036667f58a",
      "metadata": {
        "id": "2de9711a-1c24-4a2a-9fef-bd036667f58a"
      },
      "source": [
        "5.iii Describe and Understand the Data( Same as Answer number 2,please refer)\n",
        "\n",
        "Explain any special adaptation and characteristics:\n",
        "The Fashion-MNIST dataset is structured to provide a straightforward yet challenging image classification problem. Each row represents a single image, and the columns provide the label and pixel values. The dataset’s balanced classes and rich pixel information make it well-suited for various machine learning, especially those designed to capture spatial patterns and handle noisy data.\n",
        "\n"
      ]
    },
    {
      "cell_type": "markdown",
      "id": "30579d64-fed2-41b2-bc88-892474f54a68",
      "metadata": {
        "id": "30579d64-fed2-41b2-bc88-892474f54a68"
      },
      "source": [
        "6.\n",
        "Build a Logistic Regression model\n"
      ]
    },
    {
      "cell_type": "code",
      "execution_count": null,
      "id": "82f602b5-e833-4625-b777-17fc80bcaf01",
      "metadata": {
        "id": "82f602b5-e833-4625-b777-17fc80bcaf01"
      },
      "outputs": [],
      "source": [
        "#Load packages\n",
        "\n",
        "from sklearn.model_selection import train_test_split\n",
        "from sklearn.linear_model import LogisticRegression\n",
        "from sklearn.metrics import confusion_matrix, classification_report\n"
      ]
    },
    {
      "cell_type": "code",
      "execution_count": null,
      "id": "acc49177-3866-4d8d-ba9e-a03056ccf44d",
      "metadata": {
        "id": "acc49177-3866-4d8d-ba9e-a03056ccf44d"
      },
      "outputs": [],
      "source": [
        "# ## Step 1: Select target variable"
      ]
    },
    {
      "cell_type": "code",
      "execution_count": null,
      "id": "6f808c67-c565-47b2-a4ec-e759f6aa4dd8",
      "metadata": {
        "id": "6f808c67-c565-47b2-a4ec-e759f6aa4dd8"
      },
      "outputs": [],
      "source": [
        "y = digits.target"
      ]
    },
    {
      "cell_type": "code",
      "execution_count": null,
      "id": "7f25ee6e-442f-4eab-bf75-01873f34fbbb",
      "metadata": {
        "id": "7f25ee6e-442f-4eab-bf75-01873f34fbbb",
        "outputId": "29510b8f-4f3b-4108-8ba7-683da6ffa72c"
      },
      "outputs": [
        {
          "data": {
            "text/plain": [
              "'9'"
            ]
          },
          "execution_count": 12,
          "metadata": {},
          "output_type": "execute_result"
        }
      ],
      "source": [
        "y[0]"
      ]
    },
    {
      "cell_type": "code",
      "execution_count": null,
      "id": "6045ff42-710c-4551-a6b2-4fdae73562aa",
      "metadata": {
        "id": "6045ff42-710c-4551-a6b2-4fdae73562aa"
      },
      "outputs": [],
      "source": [
        "# ## Step 2: Prepare data\n",
        "# Reshape adapts the matrix form. This method could, for instance, turn a 10x10 matrix into 100 vectors"
      ]
    },
    {
      "cell_type": "code",
      "execution_count": null,
      "id": "ef49ab5c-bf8d-4640-90ba-32f0144db040",
      "metadata": {
        "id": "ef49ab5c-bf8d-4640-90ba-32f0144db040",
        "outputId": "989bc9b4-b7fd-4c76-cb8a-1e0b712b9ecb"
      },
      "outputs": [
        {
          "data": {
            "text/plain": [
              "70000"
            ]
          },
          "execution_count": 13,
          "metadata": {},
          "output_type": "execute_result"
        }
      ],
      "source": [
        "n_samples = len(digits.data)\n",
        "n_samples\n"
      ]
    },
    {
      "cell_type": "code",
      "execution_count": null,
      "id": "e730b5be-54ca-4eda-9690-67f881f453c4",
      "metadata": {
        "id": "e730b5be-54ca-4eda-9690-67f881f453c4",
        "outputId": "9d477d03-518a-4b62-a50b-fbb3916533c5"
      },
      "outputs": [
        {
          "data": {
            "text/plain": [
              "(70000, 784)"
            ]
          },
          "execution_count": 15,
          "metadata": {},
          "output_type": "execute_result"
        }
      ],
      "source": [
        "X = digits.data\n",
        "X.shape"
      ]
    },
    {
      "cell_type": "code",
      "execution_count": null,
      "id": "1a73a007-0395-4a70-acb7-e4d1e2722167",
      "metadata": {
        "id": "1a73a007-0395-4a70-acb7-e4d1e2722167"
      },
      "outputs": [],
      "source": [
        "# ## Step 3: split into test set and training set"
      ]
    },
    {
      "cell_type": "code",
      "execution_count": null,
      "id": "0bcf6123-160f-4f1f-a019-295a7d4c4af7",
      "metadata": {
        "id": "0bcf6123-160f-4f1f-a019-295a7d4c4af7"
      },
      "outputs": [],
      "source": [
        "X_train, X_test, y_train, y_test = train_test_split(X, y, train_size = 0.8 ,random_state=0)\n"
      ]
    },
    {
      "cell_type": "code",
      "execution_count": null,
      "id": "d34f842d-a399-4f4f-bb1e-8d816d7f81af",
      "metadata": {
        "id": "d34f842d-a399-4f4f-bb1e-8d816d7f81af"
      },
      "outputs": [],
      "source": [
        "# ## Step 4: Select a Linear Regression classifier"
      ]
    },
    {
      "cell_type": "code",
      "execution_count": null,
      "id": "92a84187-84d1-4454-862d-57fb93d70aec",
      "metadata": {
        "id": "92a84187-84d1-4454-862d-57fb93d70aec"
      },
      "outputs": [],
      "source": [
        "lr = LogisticRegression(solver = 'lbfgs', max_iter = 100)"
      ]
    },
    {
      "cell_type": "code",
      "execution_count": null,
      "id": "53ef6026-4af1-4fd4-b02c-6a26ad5f34b3",
      "metadata": {
        "id": "53ef6026-4af1-4fd4-b02c-6a26ad5f34b3"
      },
      "outputs": [],
      "source": [
        "# ## Step 5: Fit the data"
      ]
    },
    {
      "cell_type": "code",
      "execution_count": null,
      "id": "f6af24d0-fdb8-4623-bb1b-21628f05ae7d",
      "metadata": {
        "id": "f6af24d0-fdb8-4623-bb1b-21628f05ae7d",
        "outputId": "ea489e0b-30b1-4537-ae48-e4a52438f42a"
      },
      "outputs": [
        {
          "name": "stderr",
          "output_type": "stream",
          "text": [
            "C:\\Users\\cpeng\\anaconda3\\envs\\PRML\\Lib\\site-packages\\sklearn\\linear_model\\_logistic.py:469: ConvergenceWarning: lbfgs failed to converge (status=1):\n",
            "STOP: TOTAL NO. of ITERATIONS REACHED LIMIT.\n",
            "\n",
            "Increase the number of iterations (max_iter) or scale the data as shown in:\n",
            "    https://scikit-learn.org/stable/modules/preprocessing.html\n",
            "Please also refer to the documentation for alternative solver options:\n",
            "    https://scikit-learn.org/stable/modules/linear_model.html#logistic-regression\n",
            "  n_iter_i = _check_optimize_result(\n"
          ]
        },
        {
          "data": {
            "text/html": [
              "<style>#sk-container-id-1 {\n",
              "  /* Definition of color scheme common for light and dark mode */\n",
              "  --sklearn-color-text: black;\n",
              "  --sklearn-color-line: gray;\n",
              "  /* Definition of color scheme for unfitted estimators */\n",
              "  --sklearn-color-unfitted-level-0: #fff5e6;\n",
              "  --sklearn-color-unfitted-level-1: #f6e4d2;\n",
              "  --sklearn-color-unfitted-level-2: #ffe0b3;\n",
              "  --sklearn-color-unfitted-level-3: chocolate;\n",
              "  /* Definition of color scheme for fitted estimators */\n",
              "  --sklearn-color-fitted-level-0: #f0f8ff;\n",
              "  --sklearn-color-fitted-level-1: #d4ebff;\n",
              "  --sklearn-color-fitted-level-2: #b3dbfd;\n",
              "  --sklearn-color-fitted-level-3: cornflowerblue;\n",
              "\n",
              "  /* Specific color for light theme */\n",
              "  --sklearn-color-text-on-default-background: var(--sg-text-color, var(--theme-code-foreground, var(--jp-content-font-color1, black)));\n",
              "  --sklearn-color-background: var(--sg-background-color, var(--theme-background, var(--jp-layout-color0, white)));\n",
              "  --sklearn-color-border-box: var(--sg-text-color, var(--theme-code-foreground, var(--jp-content-font-color1, black)));\n",
              "  --sklearn-color-icon: #696969;\n",
              "\n",
              "  @media (prefers-color-scheme: dark) {\n",
              "    /* Redefinition of color scheme for dark theme */\n",
              "    --sklearn-color-text-on-default-background: var(--sg-text-color, var(--theme-code-foreground, var(--jp-content-font-color1, white)));\n",
              "    --sklearn-color-background: var(--sg-background-color, var(--theme-background, var(--jp-layout-color0, #111)));\n",
              "    --sklearn-color-border-box: var(--sg-text-color, var(--theme-code-foreground, var(--jp-content-font-color1, white)));\n",
              "    --sklearn-color-icon: #878787;\n",
              "  }\n",
              "}\n",
              "\n",
              "#sk-container-id-1 {\n",
              "  color: var(--sklearn-color-text);\n",
              "}\n",
              "\n",
              "#sk-container-id-1 pre {\n",
              "  padding: 0;\n",
              "}\n",
              "\n",
              "#sk-container-id-1 input.sk-hidden--visually {\n",
              "  border: 0;\n",
              "  clip: rect(1px 1px 1px 1px);\n",
              "  clip: rect(1px, 1px, 1px, 1px);\n",
              "  height: 1px;\n",
              "  margin: -1px;\n",
              "  overflow: hidden;\n",
              "  padding: 0;\n",
              "  position: absolute;\n",
              "  width: 1px;\n",
              "}\n",
              "\n",
              "#sk-container-id-1 div.sk-dashed-wrapped {\n",
              "  border: 1px dashed var(--sklearn-color-line);\n",
              "  margin: 0 0.4em 0.5em 0.4em;\n",
              "  box-sizing: border-box;\n",
              "  padding-bottom: 0.4em;\n",
              "  background-color: var(--sklearn-color-background);\n",
              "}\n",
              "\n",
              "#sk-container-id-1 div.sk-container {\n",
              "  /* jupyter's `normalize.less` sets `[hidden] { display: none; }`\n",
              "     but bootstrap.min.css set `[hidden] { display: none !important; }`\n",
              "     so we also need the `!important` here to be able to override the\n",
              "     default hidden behavior on the sphinx rendered scikit-learn.org.\n",
              "     See: https://github.com/scikit-learn/scikit-learn/issues/21755 */\n",
              "  display: inline-block !important;\n",
              "  position: relative;\n",
              "}\n",
              "\n",
              "#sk-container-id-1 div.sk-text-repr-fallback {\n",
              "  display: none;\n",
              "}\n",
              "\n",
              "div.sk-parallel-item,\n",
              "div.sk-serial,\n",
              "div.sk-item {\n",
              "  /* draw centered vertical line to link estimators */\n",
              "  background-image: linear-gradient(var(--sklearn-color-text-on-default-background), var(--sklearn-color-text-on-default-background));\n",
              "  background-size: 2px 100%;\n",
              "  background-repeat: no-repeat;\n",
              "  background-position: center center;\n",
              "}\n",
              "\n",
              "/* Parallel-specific style estimator block */\n",
              "\n",
              "#sk-container-id-1 div.sk-parallel-item::after {\n",
              "  content: \"\";\n",
              "  width: 100%;\n",
              "  border-bottom: 2px solid var(--sklearn-color-text-on-default-background);\n",
              "  flex-grow: 1;\n",
              "}\n",
              "\n",
              "#sk-container-id-1 div.sk-parallel {\n",
              "  display: flex;\n",
              "  align-items: stretch;\n",
              "  justify-content: center;\n",
              "  background-color: var(--sklearn-color-background);\n",
              "  position: relative;\n",
              "}\n",
              "\n",
              "#sk-container-id-1 div.sk-parallel-item {\n",
              "  display: flex;\n",
              "  flex-direction: column;\n",
              "}\n",
              "\n",
              "#sk-container-id-1 div.sk-parallel-item:first-child::after {\n",
              "  align-self: flex-end;\n",
              "  width: 50%;\n",
              "}\n",
              "\n",
              "#sk-container-id-1 div.sk-parallel-item:last-child::after {\n",
              "  align-self: flex-start;\n",
              "  width: 50%;\n",
              "}\n",
              "\n",
              "#sk-container-id-1 div.sk-parallel-item:only-child::after {\n",
              "  width: 0;\n",
              "}\n",
              "\n",
              "/* Serial-specific style estimator block */\n",
              "\n",
              "#sk-container-id-1 div.sk-serial {\n",
              "  display: flex;\n",
              "  flex-direction: column;\n",
              "  align-items: center;\n",
              "  background-color: var(--sklearn-color-background);\n",
              "  padding-right: 1em;\n",
              "  padding-left: 1em;\n",
              "}\n",
              "\n",
              "\n",
              "/* Toggleable style: style used for estimator/Pipeline/ColumnTransformer box that is\n",
              "clickable and can be expanded/collapsed.\n",
              "- Pipeline and ColumnTransformer use this feature and define the default style\n",
              "- Estimators will overwrite some part of the style using the `sk-estimator` class\n",
              "*/\n",
              "\n",
              "/* Pipeline and ColumnTransformer style (default) */\n",
              "\n",
              "#sk-container-id-1 div.sk-toggleable {\n",
              "  /* Default theme specific background. It is overwritten whether we have a\n",
              "  specific estimator or a Pipeline/ColumnTransformer */\n",
              "  background-color: var(--sklearn-color-background);\n",
              "}\n",
              "\n",
              "/* Toggleable label */\n",
              "#sk-container-id-1 label.sk-toggleable__label {\n",
              "  cursor: pointer;\n",
              "  display: block;\n",
              "  width: 100%;\n",
              "  margin-bottom: 0;\n",
              "  padding: 0.5em;\n",
              "  box-sizing: border-box;\n",
              "  text-align: center;\n",
              "}\n",
              "\n",
              "#sk-container-id-1 label.sk-toggleable__label-arrow:before {\n",
              "  /* Arrow on the left of the label */\n",
              "  content: \"▸\";\n",
              "  float: left;\n",
              "  margin-right: 0.25em;\n",
              "  color: var(--sklearn-color-icon);\n",
              "}\n",
              "\n",
              "#sk-container-id-1 label.sk-toggleable__label-arrow:hover:before {\n",
              "  color: var(--sklearn-color-text);\n",
              "}\n",
              "\n",
              "/* Toggleable content - dropdown */\n",
              "\n",
              "#sk-container-id-1 div.sk-toggleable__content {\n",
              "  max-height: 0;\n",
              "  max-width: 0;\n",
              "  overflow: hidden;\n",
              "  text-align: left;\n",
              "  /* unfitted */\n",
              "  background-color: var(--sklearn-color-unfitted-level-0);\n",
              "}\n",
              "\n",
              "#sk-container-id-1 div.sk-toggleable__content.fitted {\n",
              "  /* fitted */\n",
              "  background-color: var(--sklearn-color-fitted-level-0);\n",
              "}\n",
              "\n",
              "#sk-container-id-1 div.sk-toggleable__content pre {\n",
              "  margin: 0.2em;\n",
              "  border-radius: 0.25em;\n",
              "  color: var(--sklearn-color-text);\n",
              "  /* unfitted */\n",
              "  background-color: var(--sklearn-color-unfitted-level-0);\n",
              "}\n",
              "\n",
              "#sk-container-id-1 div.sk-toggleable__content.fitted pre {\n",
              "  /* unfitted */\n",
              "  background-color: var(--sklearn-color-fitted-level-0);\n",
              "}\n",
              "\n",
              "#sk-container-id-1 input.sk-toggleable__control:checked~div.sk-toggleable__content {\n",
              "  /* Expand drop-down */\n",
              "  max-height: 200px;\n",
              "  max-width: 100%;\n",
              "  overflow: auto;\n",
              "}\n",
              "\n",
              "#sk-container-id-1 input.sk-toggleable__control:checked~label.sk-toggleable__label-arrow:before {\n",
              "  content: \"▾\";\n",
              "}\n",
              "\n",
              "/* Pipeline/ColumnTransformer-specific style */\n",
              "\n",
              "#sk-container-id-1 div.sk-label input.sk-toggleable__control:checked~label.sk-toggleable__label {\n",
              "  color: var(--sklearn-color-text);\n",
              "  background-color: var(--sklearn-color-unfitted-level-2);\n",
              "}\n",
              "\n",
              "#sk-container-id-1 div.sk-label.fitted input.sk-toggleable__control:checked~label.sk-toggleable__label {\n",
              "  background-color: var(--sklearn-color-fitted-level-2);\n",
              "}\n",
              "\n",
              "/* Estimator-specific style */\n",
              "\n",
              "/* Colorize estimator box */\n",
              "#sk-container-id-1 div.sk-estimator input.sk-toggleable__control:checked~label.sk-toggleable__label {\n",
              "  /* unfitted */\n",
              "  background-color: var(--sklearn-color-unfitted-level-2);\n",
              "}\n",
              "\n",
              "#sk-container-id-1 div.sk-estimator.fitted input.sk-toggleable__control:checked~label.sk-toggleable__label {\n",
              "  /* fitted */\n",
              "  background-color: var(--sklearn-color-fitted-level-2);\n",
              "}\n",
              "\n",
              "#sk-container-id-1 div.sk-label label.sk-toggleable__label,\n",
              "#sk-container-id-1 div.sk-label label {\n",
              "  /* The background is the default theme color */\n",
              "  color: var(--sklearn-color-text-on-default-background);\n",
              "}\n",
              "\n",
              "/* On hover, darken the color of the background */\n",
              "#sk-container-id-1 div.sk-label:hover label.sk-toggleable__label {\n",
              "  color: var(--sklearn-color-text);\n",
              "  background-color: var(--sklearn-color-unfitted-level-2);\n",
              "}\n",
              "\n",
              "/* Label box, darken color on hover, fitted */\n",
              "#sk-container-id-1 div.sk-label.fitted:hover label.sk-toggleable__label.fitted {\n",
              "  color: var(--sklearn-color-text);\n",
              "  background-color: var(--sklearn-color-fitted-level-2);\n",
              "}\n",
              "\n",
              "/* Estimator label */\n",
              "\n",
              "#sk-container-id-1 div.sk-label label {\n",
              "  font-family: monospace;\n",
              "  font-weight: bold;\n",
              "  display: inline-block;\n",
              "  line-height: 1.2em;\n",
              "}\n",
              "\n",
              "#sk-container-id-1 div.sk-label-container {\n",
              "  text-align: center;\n",
              "}\n",
              "\n",
              "/* Estimator-specific */\n",
              "#sk-container-id-1 div.sk-estimator {\n",
              "  font-family: monospace;\n",
              "  border: 1px dotted var(--sklearn-color-border-box);\n",
              "  border-radius: 0.25em;\n",
              "  box-sizing: border-box;\n",
              "  margin-bottom: 0.5em;\n",
              "  /* unfitted */\n",
              "  background-color: var(--sklearn-color-unfitted-level-0);\n",
              "}\n",
              "\n",
              "#sk-container-id-1 div.sk-estimator.fitted {\n",
              "  /* fitted */\n",
              "  background-color: var(--sklearn-color-fitted-level-0);\n",
              "}\n",
              "\n",
              "/* on hover */\n",
              "#sk-container-id-1 div.sk-estimator:hover {\n",
              "  /* unfitted */\n",
              "  background-color: var(--sklearn-color-unfitted-level-2);\n",
              "}\n",
              "\n",
              "#sk-container-id-1 div.sk-estimator.fitted:hover {\n",
              "  /* fitted */\n",
              "  background-color: var(--sklearn-color-fitted-level-2);\n",
              "}\n",
              "\n",
              "/* Specification for estimator info (e.g. \"i\" and \"?\") */\n",
              "\n",
              "/* Common style for \"i\" and \"?\" */\n",
              "\n",
              ".sk-estimator-doc-link,\n",
              "a:link.sk-estimator-doc-link,\n",
              "a:visited.sk-estimator-doc-link {\n",
              "  float: right;\n",
              "  font-size: smaller;\n",
              "  line-height: 1em;\n",
              "  font-family: monospace;\n",
              "  background-color: var(--sklearn-color-background);\n",
              "  border-radius: 1em;\n",
              "  height: 1em;\n",
              "  width: 1em;\n",
              "  text-decoration: none !important;\n",
              "  margin-left: 1ex;\n",
              "  /* unfitted */\n",
              "  border: var(--sklearn-color-unfitted-level-1) 1pt solid;\n",
              "  color: var(--sklearn-color-unfitted-level-1);\n",
              "}\n",
              "\n",
              ".sk-estimator-doc-link.fitted,\n",
              "a:link.sk-estimator-doc-link.fitted,\n",
              "a:visited.sk-estimator-doc-link.fitted {\n",
              "  /* fitted */\n",
              "  border: var(--sklearn-color-fitted-level-1) 1pt solid;\n",
              "  color: var(--sklearn-color-fitted-level-1);\n",
              "}\n",
              "\n",
              "/* On hover */\n",
              "div.sk-estimator:hover .sk-estimator-doc-link:hover,\n",
              ".sk-estimator-doc-link:hover,\n",
              "div.sk-label-container:hover .sk-estimator-doc-link:hover,\n",
              ".sk-estimator-doc-link:hover {\n",
              "  /* unfitted */\n",
              "  background-color: var(--sklearn-color-unfitted-level-3);\n",
              "  color: var(--sklearn-color-background);\n",
              "  text-decoration: none;\n",
              "}\n",
              "\n",
              "div.sk-estimator.fitted:hover .sk-estimator-doc-link.fitted:hover,\n",
              ".sk-estimator-doc-link.fitted:hover,\n",
              "div.sk-label-container:hover .sk-estimator-doc-link.fitted:hover,\n",
              ".sk-estimator-doc-link.fitted:hover {\n",
              "  /* fitted */\n",
              "  background-color: var(--sklearn-color-fitted-level-3);\n",
              "  color: var(--sklearn-color-background);\n",
              "  text-decoration: none;\n",
              "}\n",
              "\n",
              "/* Span, style for the box shown on hovering the info icon */\n",
              ".sk-estimator-doc-link span {\n",
              "  display: none;\n",
              "  z-index: 9999;\n",
              "  position: relative;\n",
              "  font-weight: normal;\n",
              "  right: .2ex;\n",
              "  padding: .5ex;\n",
              "  margin: .5ex;\n",
              "  width: min-content;\n",
              "  min-width: 20ex;\n",
              "  max-width: 50ex;\n",
              "  color: var(--sklearn-color-text);\n",
              "  box-shadow: 2pt 2pt 4pt #999;\n",
              "  /* unfitted */\n",
              "  background: var(--sklearn-color-unfitted-level-0);\n",
              "  border: .5pt solid var(--sklearn-color-unfitted-level-3);\n",
              "}\n",
              "\n",
              ".sk-estimator-doc-link.fitted span {\n",
              "  /* fitted */\n",
              "  background: var(--sklearn-color-fitted-level-0);\n",
              "  border: var(--sklearn-color-fitted-level-3);\n",
              "}\n",
              "\n",
              ".sk-estimator-doc-link:hover span {\n",
              "  display: block;\n",
              "}\n",
              "\n",
              "/* \"?\"-specific style due to the `<a>` HTML tag */\n",
              "\n",
              "#sk-container-id-1 a.estimator_doc_link {\n",
              "  float: right;\n",
              "  font-size: 1rem;\n",
              "  line-height: 1em;\n",
              "  font-family: monospace;\n",
              "  background-color: var(--sklearn-color-background);\n",
              "  border-radius: 1rem;\n",
              "  height: 1rem;\n",
              "  width: 1rem;\n",
              "  text-decoration: none;\n",
              "  /* unfitted */\n",
              "  color: var(--sklearn-color-unfitted-level-1);\n",
              "  border: var(--sklearn-color-unfitted-level-1) 1pt solid;\n",
              "}\n",
              "\n",
              "#sk-container-id-1 a.estimator_doc_link.fitted {\n",
              "  /* fitted */\n",
              "  border: var(--sklearn-color-fitted-level-1) 1pt solid;\n",
              "  color: var(--sklearn-color-fitted-level-1);\n",
              "}\n",
              "\n",
              "/* On hover */\n",
              "#sk-container-id-1 a.estimator_doc_link:hover {\n",
              "  /* unfitted */\n",
              "  background-color: var(--sklearn-color-unfitted-level-3);\n",
              "  color: var(--sklearn-color-background);\n",
              "  text-decoration: none;\n",
              "}\n",
              "\n",
              "#sk-container-id-1 a.estimator_doc_link.fitted:hover {\n",
              "  /* fitted */\n",
              "  background-color: var(--sklearn-color-fitted-level-3);\n",
              "}\n",
              "</style><div id=\"sk-container-id-1\" class=\"sk-top-container\"><div class=\"sk-text-repr-fallback\"><pre>LogisticRegression()</pre><b>In a Jupyter environment, please rerun this cell to show the HTML representation or trust the notebook. <br />On GitHub, the HTML representation is unable to render, please try loading this page with nbviewer.org.</b></div><div class=\"sk-container\" hidden><div class=\"sk-item\"><div class=\"sk-estimator fitted sk-toggleable\"><input class=\"sk-toggleable__control sk-hidden--visually\" id=\"sk-estimator-id-1\" type=\"checkbox\" checked><label for=\"sk-estimator-id-1\" class=\"sk-toggleable__label fitted sk-toggleable__label-arrow fitted\">&nbsp;&nbsp;LogisticRegression<a class=\"sk-estimator-doc-link fitted\" rel=\"noreferrer\" target=\"_blank\" href=\"https://scikit-learn.org/1.5/modules/generated/sklearn.linear_model.LogisticRegression.html\">?<span>Documentation for LogisticRegression</span></a><span class=\"sk-estimator-doc-link fitted\">i<span>Fitted</span></span></label><div class=\"sk-toggleable__content fitted\"><pre>LogisticRegression()</pre></div> </div></div></div></div>"
            ],
            "text/plain": [
              "LogisticRegression()"
            ]
          },
          "execution_count": 18,
          "metadata": {},
          "output_type": "execute_result"
        }
      ],
      "source": [
        "lr.fit(X_train, y_train)"
      ]
    },
    {
      "cell_type": "code",
      "execution_count": null,
      "id": "0d0ac6dd-a23e-4d16-b26c-fd4656cb28a2",
      "metadata": {
        "id": "0d0ac6dd-a23e-4d16-b26c-fd4656cb28a2"
      },
      "outputs": [],
      "source": [
        "# ## Step 6: Predict on unseen data"
      ]
    },
    {
      "cell_type": "code",
      "execution_count": null,
      "id": "39e1b78e-0e0b-498a-b935-a5a673bc78f3",
      "metadata": {
        "id": "39e1b78e-0e0b-498a-b935-a5a673bc78f3"
      },
      "outputs": [],
      "source": [
        "y_pred = lr.predict(X_test)"
      ]
    },
    {
      "cell_type": "code",
      "execution_count": null,
      "id": "ca3a7a18-6dda-477e-b55f-90e33a35720a",
      "metadata": {
        "id": "ca3a7a18-6dda-477e-b55f-90e33a35720a",
        "outputId": "e8293b45-6626-40d1-9de8-40e7b3888d66"
      },
      "outputs": [
        {
          "data": {
            "text/plain": [
              "array(['9', '5', '6', ..., '6', '1', '8'], dtype=object)"
            ]
          },
          "execution_count": 24,
          "metadata": {},
          "output_type": "execute_result"
        }
      ],
      "source": [
        "y_pred"
      ]
    },
    {
      "cell_type": "markdown",
      "id": "b3dab867-b80e-44cb-9269-87c39dd7a288",
      "metadata": {
        "id": "b3dab867-b80e-44cb-9269-87c39dd7a288"
      },
      "source": [
        "7.\n",
        "Analysis of results – classification report"
      ]
    },
    {
      "cell_type": "code",
      "execution_count": null,
      "id": "ca300c00-8096-4389-b881-3b8bc7436d89",
      "metadata": {
        "id": "ca300c00-8096-4389-b881-3b8bc7436d89",
        "outputId": "ef8ef38a-d0f0-46b9-fa8f-72bde0f39123"
      },
      "outputs": [
        {
          "name": "stdout",
          "output_type": "stream",
          "text": [
            "0.8505714285714285\n"
          ]
        }
      ],
      "source": [
        "score = lr.score(X_test, y_test)\n",
        "print(score)\n"
      ]
    },
    {
      "cell_type": "markdown",
      "id": "d438b592-2a25-4991-add4-92cf2c0aabf0",
      "metadata": {
        "id": "d438b592-2a25-4991-add4-92cf2c0aabf0"
      },
      "source": [
        "The output 0.8505714285714285 is the accuracy score of our logistic regression model on the test data. This means that our model correctly classified approximately 85.06% of the instances in the test dataset."
      ]
    },
    {
      "cell_type": "code",
      "execution_count": null,
      "id": "cbfe0c7f-76dd-4b86-aacc-65ddf9690918",
      "metadata": {
        "id": "cbfe0c7f-76dd-4b86-aacc-65ddf9690918"
      },
      "outputs": [],
      "source": [
        "# ## Step 7: Create confusion matrix"
      ]
    },
    {
      "cell_type": "code",
      "execution_count": null,
      "id": "14a1da94-3231-4bf5-bae6-103e7b4b6931",
      "metadata": {
        "id": "14a1da94-3231-4bf5-bae6-103e7b4b6931",
        "outputId": "485efa58-794b-4c23-a626-ddf9229cf190"
      },
      "outputs": [
        {
          "data": {
            "text/plain": [
              "array([[1161,    8,   27,   76,    6,    1,   97,    2,   12,    1],\n",
              "       [   5, 1361,    9,   35,   10,    0,    2,    0,    2,    0],\n",
              "       [  17,    5, 1030,   14,  197,    2,   90,    0,   11,    0],\n",
              "       [  53,   21,   14, 1251,   73,    1,   34,    2,    6,    0],\n",
              "       [   1,    0,  107,   38, 1148,    0,   89,    0,    5,    0],\n",
              "       [   2,    1,    0,    0,    0, 1274,    0,   63,   14,   43],\n",
              "       [ 220,    5,  168,   44,  173,    0,  839,    1,   23,    0],\n",
              "       [   0,    0,    0,    0,    0,   50,    0, 1240,    4,   60],\n",
              "       [   3,    0,   12,    7,    3,   11,   16,   13, 1276,    0],\n",
              "       [   1,    0,    0,    0,    0,   20,    0,   56,    6, 1328]],\n",
              "      dtype=int64)"
            ]
          },
          "execution_count": 26,
          "metadata": {},
          "output_type": "execute_result"
        }
      ],
      "source": [
        "confusion_matrix(y_test, y_pred)"
      ]
    },
    {
      "cell_type": "markdown",
      "id": "393327ef-ddb8-43f4-860d-0259dde4a0d8",
      "metadata": {
        "id": "393327ef-ddb8-43f4-860d-0259dde4a0d8"
      },
      "source": [
        "This confusion matrix shows the performance of a classification model. The diagonal elements represent correct predictions, while off-diagonal elements indicate misclassifications. The model performs well for classes with high diagonal values, such as class 9 (1328 correct predictions). However, there are significant misclassifications, particularly in class 6, where 220 instances were incorrectly classified as class 0. This suggests the model struggles with certain classes, especially class 6, indicating room for improvement in classification accuracy."
      ]
    },
    {
      "cell_type": "markdown",
      "id": "8d016896-047a-4870-b914-749597cf3aaa",
      "metadata": {
        "id": "8d016896-047a-4870-b914-749597cf3aaa"
      },
      "source": [
        "Visualize the predict\n",
        "Display corrected prediction"
      ]
    },
    {
      "cell_type": "code",
      "execution_count": null,
      "id": "6c60f54e-2f68-4bca-bdb8-1db677460fde",
      "metadata": {
        "id": "6c60f54e-2f68-4bca-bdb8-1db677460fde"
      },
      "outputs": [],
      "source": [
        "mages_and_predictions = list(zip(digits.data, lr.predict(X)))"
      ]
    },
    {
      "cell_type": "code",
      "execution_count": null,
      "id": "c8149755-fcce-42f2-9fac-edce66d3206d",
      "metadata": {
        "id": "c8149755-fcce-42f2-9fac-edce66d3206d",
        "outputId": "4ed62e1c-4416-4e1e-9020-1eb621c4b0ef"
      },
      "outputs": [
        {
          "data": {
            "image/png": "[encoded data removed]",
            "text/plain": [
              "<Figure size 1000x200 with 5 Axes>"
            ]
          },
          "metadata": {},
          "output_type": "display_data"
        }
      ],
      "source": [
        "plt.figure(figsize=(10,2))\n",
        "for idx in range(5):\n",
        "    if sklearn.__version__ < '0.24.2':\n",
        "        image = digits.data[idx,:]\n",
        "    else:\n",
        "        image = digits.data.iloc[idx,:]\n",
        "\n",
        "    prediction = lr.predict(X)[idx]\n",
        "    plt.subplot(1,5,idx+1)\n",
        "    plt.axis(\"off\")\n",
        "    plt.imshow(np.array(image).reshape(28, 28), cmap=plt.cm.gray_r, interpolation='nearest')\n",
        "    plt.title('Prediction: %i' % int(prediction))\n",
        "plt.show()"
      ]
    },
    {
      "cell_type": "markdown",
      "id": "4018ef7e-4d1c-4e90-b9b9-ea236be684e3",
      "metadata": {
        "id": "4018ef7e-4d1c-4e90-b9b9-ea236be684e3"
      },
      "source": [
        "The output displays a 1x5 grid of images from the dataset, each showing a handwritten digit. Each image is accompanied by its predicted digit label from our logistic regression model. This visualization shows the predicted model is well fitted with the actual digits and the predicted labels are accurate as it indicates that the model is performing well on these samples."
      ]
    },
    {
      "cell_type": "markdown",
      "id": "fe044c88-468d-460f-91bd-5df82ab4a887",
      "metadata": {
        "id": "fe044c88-468d-460f-91bd-5df82ab4a887"
      },
      "source": [
        "Display Misclassified images with Predicted Labels"
      ]
    },
    {
      "cell_type": "code",
      "execution_count": null,
      "id": "fa9c5cfd-e216-42dd-9db0-94df39a93a47",
      "metadata": {
        "id": "fa9c5cfd-e216-42dd-9db0-94df39a93a47"
      },
      "outputs": [],
      "source": [
        "\n",
        "index = 0\n",
        "misclassifiedIndexes = []\n",
        "for label, predict in zip(y_test, y_pred):\n",
        "    if label != predict:\n",
        "        misclassifiedIndexes.append(index)\n",
        "    index +=1"
      ]
    },
    {
      "cell_type": "code",
      "execution_count": null,
      "id": "0c2489d6-9964-4c64-9ed8-59962d30475e",
      "metadata": {
        "id": "0c2489d6-9964-4c64-9ed8-59962d30475e",
        "outputId": "92a6090a-49f9-47e0-b1f0-42a9c6fbf203"
      },
      "outputs": [
        {
          "data": {
            "text/plain": [
              "[4, 14, 16, 34, 40]"
            ]
          },
          "execution_count": 38,
          "metadata": {},
          "output_type": "execute_result"
        }
      ],
      "source": [
        "misclassifiedIndexes[:5]"
      ]
    },
    {
      "cell_type": "code",
      "execution_count": null,
      "id": "36fd602d-7461-4a04-90ed-82ad895a6837",
      "metadata": {
        "id": "36fd602d-7461-4a04-90ed-82ad895a6837",
        "outputId": "5750eb90-aa36-4998-ae4a-69d0e13e2d1d"
      },
      "outputs": [
        {
          "data": {
            "text/plain": [
              "'6'"
            ]
          },
          "execution_count": 39,
          "metadata": {},
          "output_type": "execute_result"
        }
      ],
      "source": [
        "y_pred[4]"
      ]
    },
    {
      "cell_type": "code",
      "execution_count": null,
      "id": "1f58b8e7-fa94-480a-a149-667486d946b5",
      "metadata": {
        "id": "1f58b8e7-fa94-480a-a149-667486d946b5",
        "outputId": "e5d8f564-1b51-4661-8ad5-2fe31d59546c"
      },
      "outputs": [
        {
          "data": {
            "text/plain": [
              "array(['9', '5', '6', '6', '2'], dtype=object)"
            ]
          },
          "execution_count": 40,
          "metadata": {},
          "output_type": "execute_result"
        }
      ],
      "source": [
        "np.array(y_test)[:5]"
      ]
    },
    {
      "cell_type": "code",
      "execution_count": null,
      "id": "6cdba8f0-a6b4-4e79-a7b6-2a2bed5919ce",
      "metadata": {
        "id": "6cdba8f0-a6b4-4e79-a7b6-2a2bed5919ce",
        "outputId": "a1bb33e5-3ff2-4ddd-8b51-4535d4ae2722"
      },
      "outputs": [
        {
          "data": {
            "text/plain": [
              "pandas.core.frame.DataFrame"
            ]
          },
          "execution_count": 41,
          "metadata": {},
          "output_type": "execute_result"
        }
      ],
      "source": [
        "type(X_test)"
      ]
    },
    {
      "cell_type": "code",
      "execution_count": null,
      "id": "744a9f01-43cd-4037-ab1a-94c2ddc4d2ad",
      "metadata": {
        "id": "744a9f01-43cd-4037-ab1a-94c2ddc4d2ad",
        "outputId": "c2e4130f-34a1-44ff-e687-f0c200212ee9"
      },
      "outputs": [
        {
          "data": {
            "image/png": "[encoded data removed]",
            "text/plain": [
              "<Figure size 2000x300 with 5 Axes>"
            ]
          },
          "metadata": {},
          "output_type": "display_data"
        }
      ],
      "source": [
        "plt.figure(figsize=(20,3))\n",
        "for plotIndex, badIndex in enumerate(misclassifiedIndexes[0:5]):\n",
        "    plt.subplot(1, 5, plotIndex + 1)\n",
        "    plt.axis(\"off\")\n",
        "    if sklearn.__version__ < '0.24.2':\n",
        "        image = X_test[badIndex, :]\n",
        "    else:\n",
        "        image = X_test.iloc[badIndex, :]\n",
        "    plt.imshow(np.array(image).reshape(28, 28), cmap=plt.cm.gray, interpolation='nearest')\n",
        "    plt.title('Predicted: {}, Actual: {}'.format(y_pred[badIndex], np.array(y_test)[badIndex]), fontsize = 20)"
      ]
    },
    {
      "cell_type": "markdown",
      "id": "47002395-008c-49c2-8c07-722335281452",
      "metadata": {
        "id": "47002395-008c-49c2-8c07-722335281452"
      },
      "source": [
        "8.\n",
        "Concept of Regularization in Logistic Regression:\n",
        "\n",
        "Regularization is a technique used in Logistic Regression to prevent overfitting by adding a penalty to the model's complexity.Regularization discourages the model from fitting the training data too closely by penalizing large coefficients, which can lead to overfitting. Overfitting occurs when the model captures noise or random fluctuations in the training data, making it less effective on new, unseen data.\n",
        "\n",
        "There are two main types of regularization used in Logistic Regression\n",
        "1. L2 Regularization (Ridge Regression) : L2 regularization adds a penalty equal to the square of the magnitude of the coefficients (weights.: L2 regularization helps in reducing the impact of less important features (i.e., pixel values in the Fashion-MNIST dataset) without completely eliminating them, making the model simpler and less prone to overfitting.\n",
        " 2. L1 Regularization (Lasso Regression) L1 regularization adds a penalty equal to the absolute value of the magnitude of the coefficientsEffect: L1 regularization helps in creating sparse models by zeroing out coefficients of less important features, which is useful when dealing with high-dimensional data like Fashion-MNIST.\n",
        "\n",
        "How Regularization Prevents Overfitting:\n",
        "Penalizing Large Coefficients: Regularization discourages the model from assigning large weights to any particular feature. In the absence of regularization, the model may assign high weights to some features, which might represent noise or outliers in the training data, leading to overfitting.\n",
        "Simplifying the Model: Regularization encourages the model to be simpler and less complex by reducing the magnitude of the coefficients. A simpler model is less likely to capture noise and more likely to generalize well to unseen data.\n",
        "Controlling Model Complexity: The regularization parameter λ acts as a control knob for model complexity. A higher λ value increases the penalty on the coefficients, reducing the risk of overfitting but potentially underfitting if set too high.\n",
        "\n",
        "Using Regularization in Fashion-MNIST Modellin:g\n",
        "In Fashion-MNIST, which is a high-dimensional dataset with 784 features (pixels), regularization plays a crucial role:\n",
        "Managing High Dimensionality: With 784 features, there is a risk that some features (pixels) may be irrelevant or contribute minimally to the classification task. Regularization, particularly L1, can help in feature selection by shrinking the coefficients of irrelevant pixels to zero, thereby reducing the model's complexity.\n",
        "Improving Generalization: Regularization helps ensure that the model generalizes well to new, unseen images, rather than overfitting to the specific patterns of the training set. This is important in Fashion-MNIST, where the model must correctly classify a wide variety of clothing images in different poses and lighting conditions.\n",
        "Avoiding Overfitting in Complex Models: As the dataset contains many pixels, Logistic Regression without regularization might overfit by assigning high importance to certain pixels that represent noise. Regularization helps mitigate this by constraining the model, making it more robust.\n",
        "Optimizing Model Performance: By tuning the regularization parameter λ through techniques like cross-validation, the model can achieve a balance between bias and variance, optimizing its performance on both the training and validation sets.\n"
      ]
    },
    {
      "cell_type": "markdown",
      "id": "f6e65013-5415-420f-b6ff-71826662fdd6",
      "metadata": {
        "id": "f6e65013-5415-420f-b6ff-71826662fdd6"
      },
      "source": [
        "9.\n",
        "Saving the Trained Model"
      ]
    },
    {
      "cell_type": "code",
      "execution_count": null,
      "id": "732f47cd-5753-4258-bf0c-953cdcd8f273",
      "metadata": {
        "id": "732f47cd-5753-4258-bf0c-953cdcd8f273",
        "outputId": "82452c41-8a6b-4cb0-e057-dee7a6aaa99e"
      },
      "outputs": [
        {
          "data": {
            "text/plain": [
              "['fashion_mnist_lr_model.pkl']"
            ]
          },
          "execution_count": 44,
          "metadata": {},
          "output_type": "execute_result"
        }
      ],
      "source": [
        "#The trained model can be saved using libraries like joblib or pickle.\n",
        "import joblib\n",
        "\n",
        "joblib.dump(lr, 'fashion_mnist_lr_model.pkl')\n"
      ]
    },
    {
      "cell_type": "markdown",
      "id": "0f6dc7c5-430b-43b4-8a3b-235d1c2795cc",
      "metadata": {
        "id": "0f6dc7c5-430b-43b4-8a3b-235d1c2795cc"
      },
      "source": [
        "Using the Trained Model for New Unseen Data"
      ]
    },
    {
      "cell_type": "code",
      "execution_count": null,
      "id": "42f95f0b-9f98-4684-8fcf-0dbe4023d134",
      "metadata": {
        "id": "42f95f0b-9f98-4684-8fcf-0dbe4023d134"
      },
      "outputs": [],
      "source": [
        "import numpy as np\n",
        "from PIL import Image\n",
        "\n",
        "# Load the pre-trained model\n",
        "model = joblib.load('fashion_mnist_model.pkl')\n",
        "\n",
        "# Load and preprocess new image (as it's in grayscale and needs to be resized)\n",
        " # Convert to grayscale\n",
        "new_image = Image.open('new_clothing_image.png').convert('L')\n",
        "# Resize to 28x28 pixels\n",
        "new_image_resized = new_image.resize((28, 28))\n",
        "# Flatten the image\n",
        "new_image_array = np.array(new_image_resized).reshape(1, -1)\n",
        "# Normalize pixel values\n",
        "\n",
        "new_image_normalized = new_image_array / 255.0\n",
        "# Predict the class label for the new image\n",
        "prediction = model.predict(new_image_normalized)\n",
        "print(f\"Predicted class label: {prediction[0]}\")"
      ]
    }
  ],
  "metadata": {
    "kernelspec": {
      "display_name": "Python 3 (ipykernel)",
      "language": "python",
      "name": "python3"
    },
    "language_info": {
      "codemirror_mode": {
        "name": "ipython",
        "version": 3
      },
      "file_extension": ".py",
      "mimetype": "text/x-python",
      "name": "python",
      "nbconvert_exporter": "python",
      "pygments_lexer": "ipython3",
      "version": "3.12.4"
    },
    "colab": {
      "provenance": []
    }
  },
  "nbformat": 4,
  "nbformat_minor": 5
}